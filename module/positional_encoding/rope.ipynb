{
 "cells": [
  {
   "cell_type": "code",
   "execution_count": null,
   "metadata": {},
   "outputs": [],
   "source": [
    "import torch"
   ]
  },
  {
   "cell_type": "code",
   "execution_count": null,
   "metadata": {},
   "outputs": [],
   "source": [
    "def precompute_freqs_cis(embed_size, max_length, theta=10000.0):\n",
    "    freqs = 1 / (theta ** torch.arange(embed_size)[:embed_size // 2].float() / embed_size)\n",
    "    t = torch.arange(max_length)\n",
    "\n",
    "    freqs = torch.outer(t, freqs)\n",
    "    freqs_cis = torch.polar(torch.ones_like(freqs), freqs)\n",
    "    return freqs_cis\n",
    "\n",
    "\n",
    "def apply_rotary_embed(xq, xk, freq_cis):\n",
    "    xq = torch.view_as_complex(xq.float().view(*xq.shape[:-1], -1, 2))\n",
    "    xk = torch.view_as_complex(xk.float().view(*xk.shape[:-1], -1, 2))\n",
    "\n",
    "    xq = torch.view_as_real(xq * freq_cis).flatten(3)\n",
    "    xk = torch.view_as_real(xk * freq_cis).flatten(3)\n",
    "\n",
    "    return xq, xk\n"
   ]
  }
 ],
 "metadata": {
  "kernelspec": {
   "display_name": "py38",
   "language": "python",
   "name": "python3"
  },
  "language_info": {
   "name": "python",
   "version": "3.8.19"
  }
 },
 "nbformat": 4,
 "nbformat_minor": 2
}
