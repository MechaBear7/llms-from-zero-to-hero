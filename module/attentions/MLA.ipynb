{
 "cells": [
  {
   "cell_type": "code",
   "execution_count": 1,
   "metadata": {},
   "outputs": [],
   "source": [
    "import torch\n",
    "import torch.nn as nn\n",
    "import torch.nn.functional as F\n",
    "\n",
    "from dataclasses import dataclass"
   ]
  },
  {
   "cell_type": "code",
   "execution_count": null,
   "metadata": {},
   "outputs": [],
   "source": [
    "@dataclass\n",
    "class DeepseekArgs:\n",
    "    max_batch_size: int = 8  # 最大 batch size\n",
    "    max_seq_len: int = 4096 * 4  # 最大序列长度\n",
    "    dim: int = 2048  # 模型维度\n",
    "    n_heads: int = 16  # Attention 头数\n",
    "\n",
    "    q_lora_rank: int = 0  # Query 的 LoRA rank\n",
    "    kv_lora_rank: int = 512  # Key, Value 的 LoRA rank\n",
    "    qk_nope_head_dim: int = 128  # Query, Key 的 NoPE 维度\n",
    "    qk_rope_head_dim: int = 64  # Query, Key 的 RoPE 维度\n",
    "    v_head_dim: int = 128  # Value 的维度\n",
    "\n",
    "    original_seq_len: int = 4096  # 原始序列长度\n",
    "    rope_theta: float = 10000.0  # 频率参数"
   ]
  },
  {
   "cell_type": "code",
   "execution_count": null,
   "metadata": {},
   "outputs": [],
   "source": [
    "def precompute_freqs_cis(args: DeepseekArgs) -> torch.Tensor:\n",
    "    dim = args.qk_rope_head_dim\n",
    "    seqlen = args.max_seq_len\n",
    "    base = args.rope_theta\n",
    "\n",
    "    freqs = 1.0 / (base ** (torch.arange(0, dim, 2, dtype=torch.float32) / dim))\n",
    "    freqs = torch.outer(torch.arange(seqlen), freqs)\n",
    "\n",
    "    freqs_cis = torch.polar(torch.ones_like(freqs), freqs)\n",
    "    return freqs_cis"
   ]
  },
  {
   "cell_type": "code",
   "execution_count": null,
   "metadata": {},
   "outputs": [],
   "source": [
    "class RMSNorm(nn.Module):\n",
    "    def __init__(self, dim, eps=1e-6):\n",
    "        super().__init__()\n",
    "        self.eps = eps\n",
    "        self.weight = nn.Parameter(torch.ones(dim))\n",
    "\n",
    "    def norm(self, x):\n",
    "        x = x * torch.rsqrt(x.pow(2).mean(dim=-1, keepdim=True) + self.eps)\n",
    "        return x\n",
    "\n",
    "    def forward(self, x):\n",
    "        x = self.norm(x.float()).type_as(x)\n",
    "        return self.weight * x"
   ]
  }
 ],
 "metadata": {
  "kernelspec": {
   "display_name": "py38",
   "language": "python",
   "name": "python3"
  },
  "language_info": {
   "codemirror_mode": {
    "name": "ipython",
    "version": 3
   },
   "file_extension": ".py",
   "mimetype": "text/x-python",
   "name": "python",
   "nbconvert_exporter": "python",
   "pygments_lexer": "ipython3",
   "version": "3.8.19"
  }
 },
 "nbformat": 4,
 "nbformat_minor": 2
}
