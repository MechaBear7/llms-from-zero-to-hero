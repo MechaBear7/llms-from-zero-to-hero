{
 "cells": [
  {
   "cell_type": "code",
   "execution_count": 10,
   "metadata": {},
   "outputs": [],
   "source": [
    "import math\n",
    "import torch\n",
    "import torch.nn as nn\n",
    "import torch.nn.functional as F"
   ]
  },
  {
   "cell_type": "code",
   "execution_count": null,
   "metadata": {},
   "outputs": [
    {
     "name": "stdout",
     "output_type": "stream",
     "text": [
      "torch.Size([8, 512, 128])\n"
     ]
    }
   ],
   "source": [
    "# Multi-Head Attention\n",
    "class MultiHeadAttention(nn.Module):\n",
    "    def __init__(self, hidden_dim, num_heads):\n",
    "        super().__init__()\n",
    "        self.hidden_dim = hidden_dim\n",
    "        self.num_heads = num_heads\n",
    "        assert self.hidden_dim % self.num_heads == 0, \"隐层维度必须能被头数整除.\"\n",
    "        self.head_dim = self.hidden_dim // self.num_heads\n",
    "\n",
    "        self.q_proj = nn.Linear(self.hidden_dim, self.hidden_dim)\n",
    "        self.k_proj = nn.Linear(self.hidden_dim, self.hidden_dim)\n",
    "        self.v_proj = nn.Linear(self.hidden_dim, self.hidden_dim)\n",
    "\n",
    "        self.fc_out = nn.Linear(self.hidden_dim, self.hidden_dim)\n",
    "    \n",
    "    def forward(self, x, mask=None):\n",
    "        batch_size, seq_len, _ = x.size()\n",
    "        \n",
    "        query = self.q_proj(x).view(batch_size, seq_len, self.num_heads, self.head_dim).transpose(1, 2)\n",
    "        key = self.k_proj(x).view(batch_size, seq_len, self.num_heads, self.head_dim).transpose(1, 2)\n",
    "        value = self.v_proj(x).view(batch_size, seq_len, self.num_heads, self.head_dim).transpose(1, 2)\n",
    "\n",
    "        scores = torch.einsum(\"bnih,bnjh->bnij\", query, key) / math.sqrt(self.head_dim)\n",
    "        if mask is not None:\n",
    "            scores = scores.masked_fill(mask == 0, float('-inf'))\n",
    "        weights = torch.softmax(scores, dim=-1)\n",
    "        output = torch.einsum(\"bnij,bnjh->bnih\", weights, value)\n",
    "\n",
    "        output = output.transpose(1, 2).contiguous().view(batch_size, seq_len, -1)\n",
    "        return self.fc_out(output)\n",
    "\n",
    "\n",
    "def test_mha():\n",
    "    batch_size = 8\n",
    "    seq_length = 512\n",
    "    hidden_dim = 128\n",
    "    x = torch.randn((batch_size, seq_length, hidden_dim))\n",
    "    mha = MultiHeadAttention(128, 8)\n",
    "    out = mha(x)\n",
    "    print(out.shape)\n",
    "\n",
    "\n",
    "test_mha()\n"
   ]
  },
  {
   "cell_type": "code",
   "execution_count": 15,
   "metadata": {},
   "outputs": [
    {
     "name": "stdout",
     "output_type": "stream",
     "text": [
      "torch.Size([8, 512, 128])\n"
     ]
    }
   ],
   "source": [
    "# Multi-Qurey Attention\n",
    "class MultiQueryAttention(nn.Module):\n",
    "    def __init__(self, hidden_dim, num_heads):\n",
    "        super().__init__()\n",
    "        self.hidden_dim = hidden_dim\n",
    "        self.num_heads = num_heads\n",
    "        assert self.hidden_dim % self.num_heads == 0, \"隐层维度必须能被头数整除\"\n",
    "        self.head_dim = self.hidden_dim // self.num_heads\n",
    "\n",
    "        self.q_proj = nn.Linear(self.hidden_dim, self.hidden_dim)\n",
    "        self.k_proj = nn.Linear(self.hidden_dim, self.head_dim)\n",
    "        self.v_proj = nn.Linear(self.hidden_dim, self.head_dim)\n",
    "\n",
    "        self.fc_out = nn.Linear(self.hidden_dim, self.hidden_dim)\n",
    "    \n",
    "    def forward(self, x, mask=None):\n",
    "        batch_size, seq_len, _ = x.size()\n",
    "        \n",
    "        query = self.q_proj(x).view(batch_size, seq_len, self.num_heads, self.head_dim).transpose(1, 2)\n",
    "        key = self.k_proj(x).view(batch_size, seq_len, 1, self.head_dim).transpose(1, 2)\n",
    "        value = self.v_proj(x).view(batch_size, seq_len, 1, self.head_dim).transpose(1, 2)\n",
    "\n",
    "        scores = torch.einsum(\"bnih,bnjh->bnij\", query, key) / math.sqrt(self.head_dim)\n",
    "        if mask is not None:\n",
    "            scores = torch.masked_fill(mask == 0, float('-inf'))\n",
    "        weights = torch.softmax(scores, dim=-1)\n",
    "        output = torch.einsum(\"bnij,bnjh->bnih\", weights, value)\n",
    "        \n",
    "        output = output.transpose(1, 2).contiguous().view(batch_size, seq_len, -1)\n",
    "\n",
    "        return self.fc_out(output)\n",
    "\n",
    "\n",
    "def test_mqa():\n",
    "    batch_size = 8\n",
    "    seq_len = 512\n",
    "    hidden_dim = 128\n",
    "    x = torch.randn((batch_size, seq_len, hidden_dim))\n",
    "    mqa = MultiQueryAttention(128, 16)\n",
    "    out = mqa(x)\n",
    "    print(out.shape)\n",
    "\n",
    "\n",
    "test_mqa()"
   ]
  }
 ],
 "metadata": {
  "kernelspec": {
   "display_name": "SEM",
   "language": "python",
   "name": "python3"
  },
  "language_info": {
   "codemirror_mode": {
    "name": "ipython",
    "version": 3
   },
   "file_extension": ".py",
   "mimetype": "text/x-python",
   "name": "python",
   "nbconvert_exporter": "python",
   "pygments_lexer": "ipython3",
   "version": "3.8.20"
  }
 },
 "nbformat": 4,
 "nbformat_minor": 2
}
